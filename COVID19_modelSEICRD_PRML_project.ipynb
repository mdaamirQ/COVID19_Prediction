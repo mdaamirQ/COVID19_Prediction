{
  "nbformat": 4,
  "nbformat_minor": 0,
  "metadata": {
    "colab": {
      "name": "COVID19_modelSEICRD_PRML_project.ipynb",
      "provenance": [],
      "collapsed_sections": [
        "8Te_XBVrfH8K",
        "3Ige2b8keZqa",
        "i4edoU_EZYIv",
        "NCwnbhgdFNsu",
        "DKCtaw-GFbPs",
        "4IasGvrgUiNL",
        "5sZORefWE-X4",
        "3bt2l9BKGYdu",
        "XnyK6pMsGrTT",
        "gmUWrsSNHLWl",
        "oF7k6vM-GyFb",
        "6dOwqVQmHpSd",
        "_RgxYPCeIuJG",
        "4y8KpWtNJYC8",
        "cvfiF04jJkZN",
        "jSJQB7B4Nk4N",
        "FtLhNoIvOwpk",
        "8bmt2V1kTI-q",
        "d8JD6IbTSnTE",
        "j9hirCEWW9Ly",
        "wj19ka3_v47J",
        "XO8OizOGwiv0",
        "r33dYsZryUK1",
        "qAB1e3aew8xQ",
        "yanMe8LMx7ky",
        "kldzzIFdytyV"
      ]
    },
    "kernelspec": {
      "name": "python3",
      "display_name": "Python 3"
    }
  },
  "cells": [
    {
      "cell_type": "markdown",
      "metadata": {
        "id": "8Te_XBVrfH8K"
      },
      "source": [
        "![](https://drive.google.com/uc?export=view&id=1ai6wku_Lh5l-yuZ_8axuwRYDLHEHkNpn)\n",
        "\n",
        "# EE7390: Pattern Recognition and Machine Learning\n",
        "\n",
        "*  MD AAMIR SOHAIL\n",
        "*  EE16BTECH11021\n",
        "\n"
      ]
    },
    {
      "cell_type": "markdown",
      "metadata": {
        "id": "4ZwLMLupiLI_"
      },
      "source": [
        "Modelling Infectious Disease:\n",
        "\n",
        "***COMPARTMENTAL MODELS*** in Epidemiology"
      ]
    },
    {
      "cell_type": "markdown",
      "metadata": {
        "id": "xWdKiILDiGUp"
      },
      "source": [
        "![SIR Model](https://upload.wikimedia.org/wikipedia/commons/thumb/9/93/SIR_Flow_Diagram.svg/800px-SIR_Flow_Diagram.svg.png?1589297819541)"
      ]
    },
    {
      "cell_type": "markdown",
      "metadata": {
        "id": "9n4N1j3zizxh"
      },
      "source": [
        "\n",
        "\n",
        "*   **S**usceptible (can be infected, 'Healthy')\n",
        "*   **I**nfected\n",
        "*   **R**ecovered (were infected, immnune to the disease)\n",
        "\n",
        "\n",
        "***Can it model real-world infectious diseases? The answer is NO!!!.*** \n",
        "Let’s change that!"
      ]
    },
    {
      "cell_type": "markdown",
      "metadata": {
        "id": "3Ige2b8keZqa"
      },
      "source": [
        "## Introducing New Compartments\n",
        "\n",
        "1. Exposed- Many diseases have an incubation period before being infectious during which the host cannot yet spread the disease. \n",
        "2. Death- It can be further decomposed into *Natural Death* or *Death by disease*.\n",
        "3. Asymptomatic infectious- Infected population can be both *Asymptomatic* (not showing symptoms but are infectious !!!) or *Symptomatic*. \n",
        "4. Vital Dynamics: Birth and Change in population (immigration or inter-state movement)\n",
        "5. Pathogen: Amount of Pathogen present during interaction of human beings at time t. "
      ]
    },
    {
      "cell_type": "markdown",
      "metadata": {
        "id": "i4edoU_EZYIv"
      },
      "source": [
        "### SEIRD  Model:\n",
        "\n",
        "*   **S**usceptible (can be infected, 'Healthy')\n",
        "*   **E**xposed (infectious but can't spread disease, 'Healthy')\n",
        "*   **I**nfected (infectious and can spread disease)\n",
        "*   **R**ecovered (were infected, immnune to the disease)\n",
        "*   **D**eath (deceased)\n",
        "\n",
        "![SIRD Model](https://drive.google.com/uc?export=view&id=1b6fE5ezain5I97mKZRNBNNeYJR6KLgJs)\n",
        "\n",
        "> Time-Dependent Variables\n",
        "*   **N(t)**: total Population on day t\n",
        "*   **S(t)**: number of people susceptible on day t\n",
        "*   **E(t)**: number of people exposed on day t\n",
        "*   **I(t)**: number of people infected on day t\n",
        "*   **R(t)**: number of people recovered on day t\n",
        "*   **D(t)**: number of people dead on day t\n",
        "\n",
        "> Model Parameters\n",
        "*   D: # of days an infected person has disease \n",
        "*   $\\alpha$: fatality rate\n",
        "*   $\\beta$: expected amount of people infected person infects per day\n",
        "*   $\\gamma$: recovery rate (1/D)\n",
        "*   $\\delta$: inverse of incubation period\n",
        "*   $\\rho$: deceased rate \n",
        "*   $R_o (=\\beta/\\gamma)$: Reproduction Number (expected number of person an infected person infects during his disease period)\n",
        "\n",
        ">**SEIRD Model:**\n",
        "* $ \\frac{dS(t)}{dt} = - \\beta \\cdot \\frac{S}{N} \\cdot \\textit I $\n",
        "* $ \\frac{dE(t)}{dt} =  \\beta \\cdot \\frac{S}{N} \\cdot \\textit I \\quad - \\delta \\cdot E\n",
        "$\n",
        "* $ \\frac{dI(t)}{dt} = \\delta \\cdot E \\quad - \\rho \\cdot \\alpha \\cdot \\textit I \\quad - \\gamma \\cdot (1-\\alpha) \\cdot \\textit I \n",
        "$\n",
        "* $ \\frac{dR(t)}{dt} = \\gamma \\cdot (1-\\alpha) \\cdot \\textit I$\n",
        "* $ \\frac{dD(t)}{dt} = \\rho \\cdot \\alpha \\cdot \\textit I$"
      ]
    },
    {
      "cell_type": "markdown",
      "metadata": {
        "id": "NCwnbhgdFNsu"
      },
      "source": [
        "#### Imports Libraries"
      ]
    },
    {
      "cell_type": "code",
      "metadata": {
        "id": "D6VzhO2De8-0",
        "colab": {
          "base_uri": "https://localhost:8080/",
          "height": 620
        },
        "outputId": "e2e9506d-afb7-4fc1-d442-951380670395"
      },
      "source": [
        "from scipy.integrate import odeint\n",
        "import numpy as np\n",
        "import matplotlib.pyplot as plt\n",
        "import matplotlib.dates as mdates\n",
        "%matplotlib inline \n",
        "!pip install mpld3\n",
        "import mpld3\n",
        "mpld3.enable_notebook()\n",
        "!pip install lmfit\n",
        "import lmfit\n",
        "\n",
        "import warnings\n",
        "warnings.filterwarnings('ignore')\n",
        "\n",
        "import pandas as pd\n",
        "import plotly.graph_objects as go\n",
        "import plotly.express as px\n",
        "\n",
        "# Initializing Color Array to be used across the analysis\n",
        "color_arr = px.colors.qualitative.Dark24\n",
        "\n",
        "# Imports required\n",
        "from scipy.integrate import solve_ivp\n",
        "from scipy.optimize import minimize\n",
        "from datetime import timedelta, datetime"
      ],
      "execution_count": 1,
      "outputs": [
        {
          "output_type": "stream",
          "name": "stdout",
          "text": [
            "Collecting mpld3\n",
            "  Downloading mpld3-0.5.7-py3-none-any.whl (201 kB)\n",
            "\u001b[?25l\r\u001b[K     |█▋                              | 10 kB 10.1 MB/s eta 0:00:01\r\u001b[K     |███▎                            | 20 kB 13.9 MB/s eta 0:00:01\r\u001b[K     |█████                           | 30 kB 8.0 MB/s eta 0:00:01\r\u001b[K     |██████▌                         | 40 kB 6.5 MB/s eta 0:00:01\r\u001b[K     |████████▏                       | 51 kB 5.3 MB/s eta 0:00:01\r\u001b[K     |█████████▉                      | 61 kB 5.1 MB/s eta 0:00:01\r\u001b[K     |███████████▍                    | 71 kB 5.0 MB/s eta 0:00:01\r\u001b[K     |█████████████                   | 81 kB 5.5 MB/s eta 0:00:01\r\u001b[K     |██████████████▊                 | 92 kB 6.1 MB/s eta 0:00:01\r\u001b[K     |████████████████▎               | 102 kB 5.4 MB/s eta 0:00:01\r\u001b[K     |██████████████████              | 112 kB 5.4 MB/s eta 0:00:01\r\u001b[K     |███████████████████▋            | 122 kB 5.4 MB/s eta 0:00:01\r\u001b[K     |█████████████████████▏          | 133 kB 5.4 MB/s eta 0:00:01\r\u001b[K     |██████████████████████▉         | 143 kB 5.4 MB/s eta 0:00:01\r\u001b[K     |████████████████████████▌       | 153 kB 5.4 MB/s eta 0:00:01\r\u001b[K     |██████████████████████████      | 163 kB 5.4 MB/s eta 0:00:01\r\u001b[K     |███████████████████████████▊    | 174 kB 5.4 MB/s eta 0:00:01\r\u001b[K     |█████████████████████████████▍  | 184 kB 5.4 MB/s eta 0:00:01\r\u001b[K     |███████████████████████████████ | 194 kB 5.4 MB/s eta 0:00:01\r\u001b[K     |████████████████████████████████| 201 kB 5.4 MB/s \n",
            "\u001b[?25hRequirement already satisfied: jinja2 in /usr/local/lib/python3.7/dist-packages (from mpld3) (2.11.3)\n",
            "Requirement already satisfied: matplotlib in /usr/local/lib/python3.7/dist-packages (from mpld3) (3.2.2)\n",
            "Requirement already satisfied: MarkupSafe>=0.23 in /usr/local/lib/python3.7/dist-packages (from jinja2->mpld3) (2.0.1)\n",
            "Requirement already satisfied: kiwisolver>=1.0.1 in /usr/local/lib/python3.7/dist-packages (from matplotlib->mpld3) (1.3.2)\n",
            "Requirement already satisfied: python-dateutil>=2.1 in /usr/local/lib/python3.7/dist-packages (from matplotlib->mpld3) (2.8.2)\n",
            "Requirement already satisfied: numpy>=1.11 in /usr/local/lib/python3.7/dist-packages (from matplotlib->mpld3) (1.19.5)\n",
            "Requirement already satisfied: cycler>=0.10 in /usr/local/lib/python3.7/dist-packages (from matplotlib->mpld3) (0.11.0)\n",
            "Requirement already satisfied: pyparsing!=2.0.4,!=2.1.2,!=2.1.6,>=2.0.1 in /usr/local/lib/python3.7/dist-packages (from matplotlib->mpld3) (3.0.7)\n",
            "Requirement already satisfied: six>=1.5 in /usr/local/lib/python3.7/dist-packages (from python-dateutil>=2.1->matplotlib->mpld3) (1.15.0)\n",
            "\u001b[31mERROR: Operation cancelled by user\u001b[0m\n"
          ]
        },
        {
          "output_type": "error",
          "ename": "ModuleNotFoundError",
          "evalue": "ignored",
          "traceback": [
            "\u001b[0;31m---------------------------------------------------------------------------\u001b[0m",
            "\u001b[0;31mModuleNotFoundError\u001b[0m                       Traceback (most recent call last)",
            "\u001b[0;32m<ipython-input-1-68d948693d78>\u001b[0m in \u001b[0;36m<module>\u001b[0;34m()\u001b[0m\n\u001b[1;32m      5\u001b[0m \u001b[0mget_ipython\u001b[0m\u001b[0;34m(\u001b[0m\u001b[0;34m)\u001b[0m\u001b[0;34m.\u001b[0m\u001b[0mmagic\u001b[0m\u001b[0;34m(\u001b[0m\u001b[0;34m'matplotlib inline'\u001b[0m\u001b[0;34m)\u001b[0m\u001b[0;34m\u001b[0m\u001b[0;34m\u001b[0m\u001b[0m\n\u001b[1;32m      6\u001b[0m \u001b[0mget_ipython\u001b[0m\u001b[0;34m(\u001b[0m\u001b[0;34m)\u001b[0m\u001b[0;34m.\u001b[0m\u001b[0msystem\u001b[0m\u001b[0;34m(\u001b[0m\u001b[0;34m'pip install mpld3'\u001b[0m\u001b[0;34m)\u001b[0m\u001b[0;34m\u001b[0m\u001b[0;34m\u001b[0m\u001b[0m\n\u001b[0;32m----> 7\u001b[0;31m \u001b[0;32mimport\u001b[0m \u001b[0mmpld3\u001b[0m\u001b[0;34m\u001b[0m\u001b[0;34m\u001b[0m\u001b[0m\n\u001b[0m\u001b[1;32m      8\u001b[0m \u001b[0mmpld3\u001b[0m\u001b[0;34m.\u001b[0m\u001b[0menable_notebook\u001b[0m\u001b[0;34m(\u001b[0m\u001b[0;34m)\u001b[0m\u001b[0;34m\u001b[0m\u001b[0;34m\u001b[0m\u001b[0m\n\u001b[1;32m      9\u001b[0m \u001b[0mget_ipython\u001b[0m\u001b[0;34m(\u001b[0m\u001b[0;34m)\u001b[0m\u001b[0;34m.\u001b[0m\u001b[0msystem\u001b[0m\u001b[0;34m(\u001b[0m\u001b[0;34m'pip install lmfit'\u001b[0m\u001b[0;34m)\u001b[0m\u001b[0;34m\u001b[0m\u001b[0;34m\u001b[0m\u001b[0m\n",
            "\u001b[0;31mModuleNotFoundError\u001b[0m: No module named 'mpld3'",
            "",
            "\u001b[0;31m---------------------------------------------------------------------------\u001b[0;32m\nNOTE: If your import is failing due to a missing package, you can\nmanually install dependencies using either !pip or !apt.\n\nTo view examples of installing some common dependencies, click the\n\"Open Examples\" button below.\n\u001b[0;31m---------------------------------------------------------------------------\u001b[0m\n"
          ],
          "errorDetails": {
            "actions": [
              {
                "action": "open_url",
                "actionText": "Open Examples",
                "url": "/notebooks/snippets/importing_libraries.ipynb"
              }
            ]
          }
        }
      ]
    },
    {
      "cell_type": "markdown",
      "metadata": {
        "id": "DKCtaw-GFbPs"
      },
      "source": [
        "#### SEIRD Modelling"
      ]
    },
    {
      "cell_type": "code",
      "metadata": {
        "id": "cVB8t97enkun"
      },
      "source": [
        "def model_1(y, t, N, beta, gamma, delta, alpha, rho):\n",
        "    S, E, I, R, D = y\n",
        "    dSdt = -beta * S * I / N\n",
        "    dEdt = beta * S * I / N - delta * E\n",
        "    dIdt = delta * E - (1 - alpha) * gamma * I - alpha * rho * I\n",
        "    dRdt = (1 - alpha) * gamma * I\n",
        "    dDdt = alpha * rho * I\n",
        "    return dSdt, dEdt, dIdt, dRdt, dDdt\n",
        "\n",
        "def plotSEIRD(t, S, E, I, R, D=None, L=None, R0=None, Alpha=None, CFR=None):\n",
        "  f, ax = plt.subplots(1,1,figsize=(10,4))\n",
        "  ax.plot(t, S, 'b', alpha=0.7, linewidth=2, label='Susceptible')\n",
        "  ax.plot(t, E, 'y', alpha=0.7, linewidth=2, label='Exposed')\n",
        "  ax.plot(t, I, 'r', alpha=0.7, linewidth=2, label='Infected')\n",
        "  ax.plot(t, R, 'g', alpha=0.7, linewidth=2, label='Recovered')\n",
        "  if D is not None:\n",
        "    ax.plot(t, D, 'k', alpha=0.7, linewidth=2, label='Dead')\n",
        "    ax.plot(t, S+E+I+R+D, 'c--', alpha=0.7, linewidth=2, label='Total')\n",
        "  else:\n",
        "    ax.plot(t, S+E+I+R, 'c--', alpha=0.7, linewidth=2, label='Total')\n",
        "\n",
        "  ax.set_xlabel('Time (days)')\n",
        "\n",
        "  ax.yaxis.set_tick_params(length=0)\n",
        "  ax.xaxis.set_tick_params(length=0)\n",
        "  ax.grid(b=True, which='major', c='w', lw=2, ls='-')\n",
        "  legend = ax.legend(borderpad=2.0)\n",
        "  legend.get_frame().set_alpha(0.5)\n",
        "  for spine in ('top', 'right', 'bottom', 'left'):\n",
        "      ax.spines[spine].set_visible(False)\n",
        "  if L is not None:\n",
        "      plt.title(\"Lockdown after {} days\".format(L))\n",
        "  plt.show();\n",
        "\n",
        "  if R0 is not None or CFR is not None:\n",
        "    f = plt.figure(figsize=(12,4))\n",
        "  \n",
        "  if R0 is not None:\n",
        "    # sp1\n",
        "    ax1 = f.add_subplot(121)\n",
        "    ax1.plot(t, R0, 'b--', alpha=0.7, linewidth=2, label='R_0')\n",
        "\n",
        "    ax1.set_xlabel('Time (days)')\n",
        "    ax1.title.set_text('R_0 over time')\n",
        "    ax1.yaxis.set_tick_params(length=0)\n",
        "    ax1.xaxis.set_tick_params(length=0)\n",
        "    ax1.grid(b=True, which='major', c='w', lw=2, ls='-')\n",
        "    legend = ax1.legend()\n",
        "    legend.get_frame().set_alpha(0.5)\n",
        "    for spine in ('top', 'right', 'bottom', 'left'):\n",
        "      ax.spines[spine].set_visible(False)\n",
        "\n",
        "  if Alpha is not None:\n",
        "    # sp2\n",
        "    ax2 = f.add_subplot(122)\n",
        "    ax2.plot(t, Alpha, 'r--', alpha=0.7, linewidth=2, label='alpha')\n",
        "\n",
        "    ax2.set_xlabel('Time (days)')\n",
        "    ax2.title.set_text('fatality rate over time')\n",
        "    ax2.yaxis.set_tick_params(length=0)\n",
        "    ax2.xaxis.set_tick_params(length=0)\n",
        "    ax2.grid(b=True, which='major', c='w', lw=2, ls='-')\n",
        "    legend = ax2.legend()\n",
        "    legend.get_frame().set_alpha(0.5)\n",
        "    for spine in ('top', 'right', 'bottom', 'left'):\n",
        "      ax.spines[spine].set_visible(False)\n",
        "\n",
        "    plt.show();"
      ],
      "execution_count": null,
      "outputs": []
    },
    {
      "cell_type": "code",
      "metadata": {
        "id": "BiCyghS3pAP4"
      },
      "source": [
        "N = 1_000_000\n",
        "D = 4.0 # infections lasts four days\n",
        "gamma = 1.0 / D # rate of recovery\n",
        "a = 5.0 # incubation period (days)\n",
        "delta = 1.0 / a  # rate of becoming infectious\n",
        "\n",
        "### Expected number of people an infected person infect during his infection period\n",
        "R_0 = 5 ### Basic Reproduction number\n",
        "\n",
        "### Beta (expected number of people an infected person infect per day)\n",
        "beta = R_0 * gamma  # R_0 = beta/gamma \n",
        "\n",
        "alpha = 0.1  # 10% death rate\n",
        "rho = 1/9  # 1/ x-days from infection until death\n",
        "S0, E0, I0, R0, D0 = N-1, 1, 0, 0, 0  # initial conditions: one exposed\n",
        "\n",
        "''' SOLVING SERID MODEL'''\n",
        "t = np.linspace(0, 100, 100) # Grid of time points (in days)\n",
        "x_init = S0, E0, I0, R0, D0 # Initial number of the compartments\n",
        "\n",
        "# Integrate the SIR equations over the time grid, t.\n",
        "solution = odeint(model_1, x_init, t, args=(N, beta, gamma, delta, alpha, rho))\n",
        "S, E, I, R, D = solution.T\n",
        "\n",
        "### Plotting\n",
        "plotSEIRD(t,S,E,I,R,D)"
      ],
      "execution_count": null,
      "outputs": []
    },
    {
      "cell_type": "markdown",
      "metadata": {
        "id": "4IasGvrgUiNL"
      },
      "source": [
        "#### Basic Reproductivity number\n",
        "\n",
        "$R_0 = \\beta/\\gamma$, where $\\beta$ is the expected number of people an infected person infects.\n",
        "\n",
        "For e.g. If the probability of infecting is $20\\%$, infected person meets 10 person (avg.) per day.\n",
        "Then, $\\beta = 2$ person per day. \n",
        "If the recovering period of the disease if 10 days.\n",
        "Then, infected person has infected $2*10 = 20$ persons.  \n",
        "\n",
        "> $R_0 \\Longleftrightarrow$ Lockdown, Social Distancing\n",
        "\n"
      ]
    },
    {
      "cell_type": "markdown",
      "metadata": {
        "id": "YdYNGWfDSc9w"
      },
      "source": [
        "![](https://assets.weforum.org/editor/9nDC50El-gHfivr6aKgZYxWf4ymER_URy15IK5f4ss0.png)\n",
        "\n",
        "SOURCE: World Economic Forum (Flattening The Curve)"
      ]
    },
    {
      "cell_type": "code",
      "metadata": {
        "id": "YfsoHLh_ScPt"
      },
      "source": [
        "### Expected number of people an infected person infect during his infection period\n",
        "R_0 = np.array([5.0, 4.0, 3.0, 2.0]) ### Basic Reproduction number\n",
        "N = 1_000_000\n",
        "D = 5.0 # infections lasts four days\n",
        "gamma = 1.0 / D # rate of recovery\n",
        "a = 2.0 # incubation period (days)\n",
        "delta = 1.0 / a  # rate of becoming infectious\n",
        "alpha = 0.1  # 10% death rate\n",
        "rho = 1/6  # 1/ x-days from infection until death\n",
        "S0, E0, I0, R0, D0 = N-1, 1, 0, 0, 0  # initial conditions: one exposed\n",
        "\n",
        "''' SOLVING SERID MODEL'''\n",
        "t = np.linspace(0, 150, 100) # Grid of time points (in days)\n",
        "x_init = S0, E0, I0, R0, D0 # Initial number of the compartments\n",
        "\n",
        "f, ax = plt.subplots(1,1,figsize=(10,6))\n",
        "for r0 in R_0:\n",
        "  ### Beta (expected number of people an infected person infect per day)\n",
        "  beta = r0 * gamma  # R_0 = beta/gamma \n",
        "  # Integrate the SIR equations over the time grid, t.\n",
        "  solution = odeint(model_1, x_init, t, args=(N, beta, gamma, delta, alpha, rho))\n",
        "  S, E, I, R, D = solution.T\n",
        "\n",
        "  ### Plotting\n",
        "  ax.plot(t, I, alpha=0.7, linewidth=2.5, label='Ro: '+str(r0))\n",
        "\n",
        "# ax.plot(t, S+E+I+R+D, 'k--', alpha=0.5, linewidth=2, label='Total Population')\n",
        "\n",
        "### n_P_per_Bed: avg. number of persons per bed \n",
        "n_P_per_Bed = 10\n",
        "ax.plot(t, (S+E+I+R+D)/n_P_per_Bed, 'k--', alpha=0.5, linewidth=2, label='Healthcare Capacity')\n",
        "ax.legend()\n",
        "ax.set_xlabel('Time (Days)')\n",
        "ax.set_ylabel('# of Infected persons')\n",
        "plt.show()"
      ],
      "execution_count": null,
      "outputs": []
    },
    {
      "cell_type": "markdown",
      "metadata": {
        "id": "xEhkLKSAE6rP"
      },
      "source": [
        "![](https://assets.weforum.org/editor/OvFhzpR-LBnXhkCKJQCS-esRaIXokJd70JBjHA0tgNs.gif)\n",
        "\n",
        "SOURCE: World Economic Forum (Flattening The Curve)"
      ]
    },
    {
      "cell_type": "markdown",
      "metadata": {
        "id": "5sZORefWE-X4"
      },
      "source": [
        "#### Fitting SEIRD Model to India Coronavirus Data"
      ]
    },
    {
      "cell_type": "markdown",
      "metadata": {
        "id": "3bt2l9BKGYdu"
      },
      "source": [
        "##### Downloading datasets into respective data frames "
      ]
    },
    {
      "cell_type": "code",
      "metadata": {
        "id": "bOwfVw5hE6Gm"
      },
      "source": [
        "'''Links to raw files for Covid-19 dataset provided by CSSEGIS JHU'''\n",
        "\n",
        "confimed_cases_file_link = \"https://raw.githubusercontent.com/CSSEGISandData/COVID-19/master/csse_covid_19_data/csse_covid_19_time_series/time_series_covid19_confirmed_global.csv\"\n",
        "death_cases_file_link = \"https://raw.githubusercontent.com/CSSEGISandData/COVID-19/master/csse_covid_19_data/csse_covid_19_time_series/time_series_covid19_deaths_global.csv\"\n",
        "recovered_cases_file_link = \"https://raw.githubusercontent.com/CSSEGISandData/COVID-19/master/csse_covid_19_data/csse_covid_19_time_series/time_series_covid19_recovered_global.csv\"\n",
        "country_cases_file_link = \"https://raw.githubusercontent.com/CSSEGISandData/COVID-19/web-data/data/cases_country.csv\"\n",
        "\n",
        "'''Creating Dataframes'''\n",
        "confirmed_df = pd.read_csv(confimed_cases_file_link)\n",
        "deaths_df = pd.read_csv(death_cases_file_link)\n",
        "recovered_df = pd.read_csv(recovered_cases_file_link)\n",
        "\n",
        "cases_country_df = pd.read_csv(country_cases_file_link)"
      ],
      "execution_count": null,
      "outputs": []
    },
    {
      "cell_type": "markdown",
      "metadata": {
        "id": "XnyK6pMsGrTT"
      },
      "source": [
        "##### Data Preprocessing"
      ]
    },
    {
      "cell_type": "code",
      "metadata": {
        "id": "8SJuD7r-Gvlc"
      },
      "source": [
        "confirmed_df = confirmed_df.replace(np.nan, '', regex=True)\n",
        "confirmed_df.drop(['Province/State','Lat','Long'],axis=1,inplace=True)\n",
        "deaths_df = deaths_df.replace(np.nan, '', regex=True)\n",
        "deaths_df.drop(['Province/State','Lat','Long'],axis=1,inplace=True)\n",
        "recovered_df = recovered_df.replace(np.nan, '', regex=True)\n",
        "recovered_df.drop(['Province/State','Lat','Long'],axis=1,inplace=True)\n",
        "cases_country_df = cases_country_df.replace(np.nan, '', regex=True)"
      ],
      "execution_count": null,
      "outputs": []
    },
    {
      "cell_type": "markdown",
      "metadata": {
        "id": "gmUWrsSNHLWl"
      },
      "source": [
        "##### Visualising Global outbreak status"
      ]
    },
    {
      "cell_type": "code",
      "metadata": {
        "id": "r8x2oFODG8Q2"
      },
      "source": [
        "'''Confirmed'''\n",
        "confirmed_df_summary = confirmed_df.sum()\n",
        "\n",
        "fig_1 = go.Figure(data=go.Scatter(x=confirmed_df_summary.index, y = confirmed_df_summary.values, mode='lines+markers'))\n",
        "fig_1.update_layout(title='Total Coronavirus Confirmed Cases (Globally)',\n",
        "                  yaxis_title='Confirmed Cases', xaxis_tickangle = 315 )\n",
        "fig_1.show()\n",
        "\n",
        "'''Recovered'''\n",
        "recovered_df_summary = recovered_df.sum()\n",
        "\n",
        "fig_2 = go.Figure(data=go.Scatter(x=recovered_df_summary.index, y = recovered_df_summary.values, mode='lines+markers'))\n",
        "fig_2.update_layout(title='Total Coronavirus Recovered Cases (Globally)',\n",
        "                  yaxis_title='Confirmed Cases', xaxis_tickangle = 315 )\n",
        "fig_2.show()\n",
        "\n",
        "'''Deaths'''\n",
        "deaths_df_summary = deaths_df.sum()\n",
        "\n",
        "fig_2 = go.Figure(data=go.Scatter(x=deaths_df_summary.index, y = deaths_df_summary.values, mode='lines+markers'))\n",
        "fig_2.update_layout(title='Total Coronavirus Deaths Cases (Globally)',\n",
        "                  yaxis_title='Confirmed Cases', xaxis_tickangle = 315 )\n",
        "fig_2.show()"
      ],
      "execution_count": null,
      "outputs": []
    },
    {
      "cell_type": "markdown",
      "metadata": {
        "id": "oF7k6vM-GyFb"
      },
      "source": [
        "##### COVID19 PANDEMIC: India Statistics "
      ]
    },
    {
      "cell_type": "code",
      "metadata": {
        "id": "fW8x-jsdGxfD"
      },
      "source": [
        "print(\"Confirmed Cases: \\n\")\n",
        "print(confirmed_df.loc[confirmed_df['Country/Region'] == 'India'])\n",
        "\n",
        "print(\"\\n Recovered Cases: \\n\")\n",
        "print(recovered_df.loc[recovered_df['Country/Region'] == 'India'])\n",
        "\n",
        "print(\"\\n Deaths Cases: \\n\")\n",
        "print(deaths_df.loc[deaths_df['Country/Region'] == 'India'])"
      ],
      "execution_count": null,
      "outputs": []
    },
    {
      "cell_type": "markdown",
      "metadata": {
        "id": "6dOwqVQmHpSd"
      },
      "source": [
        "##### Visualising Covid-19 Case Trend in India- 22/03/2020 Onwards \n"
      ]
    },
    {
      "cell_type": "code",
      "metadata": {
        "id": "79Rqs1rNIWIw"
      },
      "source": [
        "def draw_plot(ts_array, ts_label, title, colors, mode_size, line_size, x_axis_title , y_axis_title, tickangle = 0, yaxis_type = \"\", additional_annotations=[]):\n",
        "    # initialize figure\n",
        "    fig = go.Figure()\n",
        "    # add all traces\n",
        "    for index, ts in enumerate(ts_array):\n",
        "        fig.add_trace(go.Scatter(x=ts.index,\n",
        "                                 y = ts.values,\n",
        "                                 name = ts_label[index],\n",
        "                                 line=dict(color=colors[index], width=line_size[index]),connectgaps=True,))\n",
        "    # base x_axis prop.\n",
        "    x_axis_dict = dict(showline=True, \n",
        "                       showgrid=True, \n",
        "                       showticklabels=True, \n",
        "                       linecolor='rgb(204, 204, 204)', \n",
        "                       linewidth=2,\n",
        "                       ticks='outside',\n",
        "                       tickfont=dict(family='Arial',size=12,color='rgb(82, 82, 82)',))\n",
        "    # setting x_axis params\n",
        "    if x_axis_title:\n",
        "        x_axis_dict['title'] = x_axis_title\n",
        "    \n",
        "    if tickangle > 0:\n",
        "        x_axis_dict['tickangle'] = tickangle\n",
        "    \n",
        "    # base y_axis prop.\n",
        "    y_axis_dict = dict(showline = True,\n",
        "                       showgrid = True,\n",
        "                       showticklabels=True,\n",
        "                       linecolor='rgb(204, 204, 204)',\n",
        "                       linewidth=2,)\n",
        "    # setting y_axis params\n",
        "    if yaxis_type != \"\":\n",
        "        y_axis_dict['type'] = yaxis_type\n",
        "    \n",
        "    if y_axis_title:\n",
        "        y_axis_dict['title'] = y_axis_title\n",
        "    \n",
        "    #updating the layout\n",
        "    fig.update_layout(xaxis = x_axis_dict,\n",
        "                      yaxis = y_axis_dict,\n",
        "                      autosize=True,\n",
        "                      margin=dict(autoexpand=False,l=100,r=20,t=110,),\n",
        "                     )\n",
        "\n",
        "    # base annotations for any graph\n",
        "    annotations = []\n",
        "    # Title\n",
        "    annotations.append(dict(xref='paper', yref='paper', x=0.0, y=1.05, xanchor='left', yanchor='bottom',\n",
        "                                  text=title,\n",
        "                                  font=dict(family='Arial',size=16,color='rgb(37,37,37)'),showarrow=False))\n",
        "    # adding annotations in params\n",
        "    if len(additional_annotations) > 0:\n",
        "        annotations.append(additional_annotations)\n",
        "    \n",
        "    #updating the layout\n",
        "    fig.update_layout(annotations=annotations)\n",
        "\n",
        "    return fig"
      ],
      "execution_count": null,
      "outputs": []
    },
    {
      "cell_type": "code",
      "metadata": {
        "id": "CBEeH2EMHgWL"
      },
      "source": [
        "confirmed_India = confirmed_df[confirmed_df['Country/Region']==\"India\"]\n",
        "deaths_India = deaths_df[deaths_df['Country/Region']==\"India\"]\n",
        "recovered_India = recovered_df[recovered_df['Country/Region']==\"India\"]\n",
        "\n",
        "confirmed_India = confirmed_India.drop(['Country/Region'],axis=1).reset_index(drop=True).sum()\n",
        "deaths_India = deaths_India.drop(['Country/Region'],axis =1).reset_index(drop=True).sum()\n",
        "recovered_India = recovered_India.drop(['Country/Region'],axis =1).reset_index(drop=True).sum()\n",
        "\n",
        "### Active =  Confirmed - Recovered - Deaths\n",
        "active_India = pd.Series(\n",
        "    data=np.array(\n",
        "        [x1 - x2 - x3  for (x1, x2, x3) in zip(\n",
        "            confirmed_India.values,deaths_India.values, recovered_India.values)\n",
        "        ] \n",
        "    ), \n",
        "    index= confirmed_India.index\n",
        ")\n",
        "\n",
        "'''Covid-19 Case Trend in India- 12/03/2020 Onwards '''\n",
        "India_array = [confirmed_India[50:], active_India[50:], recovered_India[50:], deaths_India[60:]]\n",
        "labels = ['Confirmed', 'Active', 'Recovered', 'Deaths']\n",
        "colors = [color_arr[5],  color_arr[0], color_arr[2], color_arr[3]]\n",
        "mode_size = [8, 8, 12, 8]\n",
        "line_size = [2, 2, 4, 2]\n",
        "\n",
        "# Calling the draw_plot function defined above\n",
        "fig_4 = draw_plot(ts_array = India_array, \n",
        "                  ts_label = labels , \n",
        "                  title = \"Covid-19 Case Trend in INDIA\",\n",
        "                  colors = colors, mode_size = mode_size, \n",
        "                  line_size = line_size , \n",
        "                  x_axis_title = \"Date\" , \n",
        "                  y_axis_title = \"Case Count\", \n",
        "                  tickangle = 315, \n",
        "                  yaxis_type = \"\", additional_annotations=[])\n",
        "\n",
        "fig_4.show()"
      ],
      "execution_count": null,
      "outputs": []
    },
    {
      "cell_type": "markdown",
      "metadata": {
        "id": "_RgxYPCeIuJG"
      },
      "source": [
        "##### Modeling & Prediction (SEIRD)"
      ]
    },
    {
      "cell_type": "markdown",
      "metadata": {
        "id": "4y8KpWtNJYC8"
      },
      "source": [
        "###### SEIRD Model"
      ]
    },
    {
      "cell_type": "code",
      "metadata": {
        "id": "zcCM46yAI8w8"
      },
      "source": [
        "#### SEIRD Modelling\n",
        "class Learner(object):\n",
        "    def __init__(self, country, cost_func, start_date, predict_range, N, s_0, e_0, i_0, r_0,d_0):\n",
        "        self.country = country\n",
        "        self.cost_func = cost_func\n",
        "        self.start_date = start_date\n",
        "        self.predict_range = predict_range\n",
        "        self.N = N\n",
        "        self.s_0 = s_0\n",
        "        self.e_0 = e_0\n",
        "        self.i_0 = i_0\n",
        "        self.r_0 = r_0\n",
        "        self.d_0 = d_0\n",
        "        \n",
        "    #### Loading Data of Country X, from Start Date: Y\n",
        "    def load_confirmed(self, country):\n",
        "        df = pd.read_csv(confimed_cases_file_link)\n",
        "        df = df.drop(['Province/State'],axis =1)\n",
        "        country_conf_df = df[df['Country/Region'] == country]\n",
        "        return country_conf_df.iloc[0].loc[self.start_date:]\n",
        "\n",
        "\n",
        "    def load_recovered(self, country):\n",
        "        df = pd.read_csv(recovered_cases_file_link)\n",
        "        df = df.drop(['Province/State'],axis =1)\n",
        "        country_recv_df = df[df['Country/Region'] == country]\n",
        "        return country_recv_df.iloc[0].loc[self.start_date:]\n",
        "\n",
        "\n",
        "    def load_dead(self, country):\n",
        "        df = pd.read_csv(death_cases_file_link)\n",
        "        df = df.drop(['Province/State'],axis =1)\n",
        "        country_deaths_df = df[df['Country/Region'] == country]\n",
        "        return country_deaths_df.iloc[0].loc[self.start_date:]\n",
        "    \n",
        "    def extend_index(self, index, new_size):\n",
        "        values = index.values\n",
        "        current = datetime.strptime(index[-1], '%m/%d/%y')\n",
        "        while len(values) < new_size:\n",
        "            current = current + timedelta(days=1)\n",
        "            values = np.append(values, datetime.strftime(current, '%m/%d/%y'))\n",
        "        return values\n",
        "      \n",
        "    def predict(self, alpha, beta, gamma, delta, rho, infected, recovered, death, country,N, s_0, e_0, i_0, r_0,d_0):\n",
        "        \"\"\"\n",
        "        Predict how the number of people in each compartment can be changed through time toward the future.\n",
        "        \"\"\"\n",
        "        new_index = self.extend_index(infected.index, self.predict_range)\n",
        "        size = len(new_index)\n",
        "\n",
        "        def SEIRD(t, y):\n",
        "            S, E, I, R, D = y[0], y[1], y[2], y[3], y[4]\n",
        "            ### Update:\n",
        "            dSdt = -beta*S*I/N\n",
        "            dEdt = beta*S*I/N - delta*E\n",
        "            dIdt = delta*E - (1-alpha)*gamma*I-alpha*rho*I\n",
        "            dRdt = (1-alpha)*gamma*I\n",
        "            dDdt = alpha*rho*I\n",
        "            return [dSdt, dEdt, dIdt, dRdt, dDdt]\n",
        "        \n",
        "        extended_active = np.concatenate((infected.values, [None] * (size - len(infected.values))))\n",
        "        extended_recovered = np.concatenate((recovered.values, [None] * (size - len(recovered.values))))\n",
        "        extended_death = np.concatenate((death.values, [None] * (size - len(death.values))))\n",
        "        return new_index, extended_active, extended_recovered, extended_death, solve_ivp(SEIRD, [0, size], [s_0,e_0,i_0,r_0,d_0], t_eval=np.arange(0, size, 1))\n",
        "    \n",
        "    def train(self):\n",
        "        \"\"\"\n",
        "        Run the optimization to estimate the beta and gamma fitting the given confirmed cases.\n",
        "        \"\"\"\n",
        "        recovered = self.load_recovered(self.country)\n",
        "        death = self.load_dead(self.country)\n",
        "        active = (self.load_confirmed(self.country) - recovered - death)\n",
        "        \n",
        "        optimal = minimize(\n",
        "            cost_func, \n",
        "            [0.001, 0.001, 0.001, 0.001, 0.001], \n",
        "            args=(active, recovered, death, self.N, self.s_0, self.e_0, self.i_0, self.r_0,self.d_0), \n",
        "            method='L-BFGS-B', \n",
        "            bounds=[(0.00000001, 0.4), (0.00000001, 0.4), (0.00000001, 0.4), (0.00000001, 0.4), (0.00000001, 0.4)]\n",
        "        )\n",
        "        print(optimal)\n",
        "        alpha, beta, gamma, delta, rho = optimal.x\n",
        "        new_index, extended_active, extended_recovered, extended_death, prediction = self.predict(alpha, beta, gamma, delta, rho, \n",
        "                                                                                                  active, recovered, death, \n",
        "                                                                                                  self.country, \n",
        "                                                                                                  self.N, \n",
        "                                                                                                  self.s_0, \n",
        "                                                                                                  self.e_0, \n",
        "                                                                                                  self.i_0, \n",
        "                                                                                                  self.r_0, \n",
        "                                                                                                  self.d_0)\n",
        "        df = pd.DataFrame({'Infected data': extended_active, \n",
        "                           'Recovered data': extended_recovered, \n",
        "                           'Death data': extended_death,\n",
        "                           'Susceptible': prediction.y[0], \n",
        "                           'Exposed': prediction.y[1], \n",
        "                           'Infected': prediction.y[2], \n",
        "                           'Recovered': prediction.y[3], \n",
        "                           'Death':prediction.y[4]}, \n",
        "                          index=new_index)\n",
        "        \n",
        "        df.to_csv(f\"{self.country}.csv\")\n",
        "        fig, ax = plt.subplots(figsize=(15, 10))\n",
        "        ax.set_title(self.country)\n",
        "        df.plot(ax=ax)\n",
        "        print(f\"country={self.country}, alpha={alpha:.8f},beta={beta:.8f}, gamma={gamma:.8f}, delta={delta:.8f}, rho={rho:.8f},r_0:{(beta/gamma):.8f}\")\n",
        "        fig.savefig(f\"{self.country}.png\")\n",
        "        \n",
        "        return df, fig\n",
        "\n",
        "'''Defining Cost Function'''\n",
        "def cost_func(parameters, active, recovered, death, N, s_0, e_0, i_0, r_0,d_0):\n",
        "    size = len(active)\n",
        "    alpha, beta, gamma, delta, rho = parameters\n",
        "    ''' RMSE '''\n",
        "    def SEIRD(t, y):\n",
        "            S, E, I, R, D = y[0], y[1], y[2], y[3], y[4]\n",
        "            ### Update:\n",
        "            dSdt = -beta*S*I/N\n",
        "            dEdt = beta*S*I/N - delta*E\n",
        "            dIdt = delta*E - (1-alpha)*gamma*I-alpha*rho*I\n",
        "            dRdt = (1-alpha)*gamma*I\n",
        "            dDdt = alpha*rho*I\n",
        "            return [dSdt, dEdt, dIdt, dRdt, dDdt]\n",
        "\n",
        "    solution = solve_ivp(SEIRD, [0, size], [s_0,e_0, i_0,r_0,d_0], t_eval=np.arange(0, size, 1), vectorized=True)\n",
        "    l_infected = np.sqrt(np.mean((solution.y[2] - active)**2))\n",
        "    l_recovered = np.sqrt(np.mean((solution.y[3] - recovered)**2))\n",
        "    l_death = np.sqrt(np.mean((solution.y[4] - death)**2))\n",
        "    w1, w2, w3 = 0.3, 0.4, 0.3\n",
        "    return w1*l_infected + w2*l_recovered + w3*l_death"
      ],
      "execution_count": null,
      "outputs": []
    },
    {
      "cell_type": "markdown",
      "metadata": {
        "id": "cvfiF04jJkZN"
      },
      "source": [
        "###### Prediction for India"
      ]
    },
    {
      "cell_type": "code",
      "metadata": {
        "id": "JUigD4gbJVVl"
      },
      "source": [
        "total_population = 1_350_000_000\n",
        "e_0 = 15\n",
        "india_learner = Learner(country=\"India\", \n",
        "                        cost_func = cost_func, \n",
        "                        start_date ='1/31/20',\n",
        "                        predict_range=250, \n",
        "                        N = total_population, \n",
        "                        s_0 = total_population-e_0, \n",
        "                        e_0 = e_0, \n",
        "                        i_0= 0, \n",
        "                        r_0 = 0, \n",
        "                        d_0 = 0)\n",
        "\n",
        "india_SEIRD , seird_fig = india_learner.train()"
      ],
      "execution_count": null,
      "outputs": []
    },
    {
      "cell_type": "code",
      "metadata": {
        "id": "kfSX5Kt2KSVP"
      },
      "source": [
        "#### CLOSE LOOK-UP at the graph\n",
        "def plot_sir_prediction(title, df_sir, remove_series=[],yaxis_type=\"\", yaxis_title=\"\"):\n",
        "    fig = go.Figure()\n",
        "    title = title\n",
        "    labels = ['Infected data','Recovered data', 'Death data', 'Susceptible','Exposed','Infected','Recovered','Death']\n",
        "    colors = [color_arr[0], color_arr[8], color_arr[2], color_arr[3],color_arr[7], color_arr[16], color_arr[10], color_arr[1]]\n",
        "    line_size = [2, 2, 2, 2, 2, 2, 2, 2]\n",
        "    \n",
        "    for index, data_series in enumerate(labels):\n",
        "        if data_series not in remove_series:\n",
        "            fig.add_trace(go.Scatter(x=df_sir.index, \n",
        "                                           y = df_sir[data_series], \n",
        "                                           name = labels[index],\n",
        "                                           line=dict(\n",
        "                                               color=colors[index], \n",
        "                                               width=line_size[index]),\n",
        "                                           connectgaps=True,))\n",
        "    xaxis= dict(title = \"Date\",\n",
        "        showline=True,\n",
        "        showgrid=True,\n",
        "        showticklabels=True,\n",
        "        linecolor='rgb(204, 204, 204)',\n",
        "        linewidth=2,\n",
        "        ticks='outside',\n",
        "        tickangle = 280,\n",
        "        tickfont=dict(\n",
        "            family='Arial',\n",
        "            size=12,\n",
        "            color='rgb(82, 82, 82)',),)\n",
        "    yaxis = dict(\n",
        "        title = \"Case Count\",\n",
        "        showline = True,\n",
        "        showgrid = True,\n",
        "        showticklabels=True,\n",
        "        linecolor='rgb(204, 204, 204)',\n",
        "        linewidth=2,)\n",
        "    \n",
        "    if yaxis_type!=\"\":\n",
        "        yaxis['type'] = yaxis_type\n",
        "    \n",
        "    if yaxis_title !=\"\":\n",
        "        yaxis['title'] = yaxis_title\n",
        "    \n",
        "    fig.update_layout(\n",
        "        xaxis = xaxis,\n",
        "        yaxis = yaxis,\n",
        "        autosize=True,\n",
        "        margin=dict(autoexpand=True,l=100,r=20,t=110,),\n",
        "        showlegend=True)\n",
        "\n",
        "    annotations = []\n",
        "\n",
        "    # Title\n",
        "    annotations.append(dict(xref='paper', yref='paper', x=0.0, y=1.05,\n",
        "                              xanchor='left', yanchor='bottom',\n",
        "                              text=title,\n",
        "                              font=dict(family='Arial',\n",
        "                                        size=16,\n",
        "                                        color='rgb(37,37,37)'),\n",
        "                              showarrow=False))\n",
        "\n",
        "    fig.update_layout(annotations=annotations)\n",
        "    \n",
        "    return fig\n",
        "    \n",
        "# To remove the \"Susceptible\" series just pass the series name to remove_series\n",
        "fig = plot_sir_prediction(\n",
        "    title=\"SIR Model --  Covid-19 Transmission -- Prediction -- INDIA\", \n",
        "    df_sir= india_SEIRD[50:150],\n",
        "    remove_series=['Susceptible'])\n",
        "\n",
        "fig.show()\n",
        "\n",
        "fig = plot_sir_prediction(\n",
        "    title=\"SIR Model --  Covid-19 Transmission -- Prediction -- INDIA\", \n",
        "    df_sir= india_SEIRD[50:110],\n",
        "    remove_series=['Susceptible','Exposed'])\n",
        "\n",
        "fig.show()"
      ],
      "execution_count": null,
      "outputs": []
    },
    {
      "cell_type": "markdown",
      "metadata": {
        "id": "jSJQB7B4Nk4N"
      },
      "source": [
        "#### Closer Look at the Model for real-world pandemic modelling\n",
        "As we can see, infected cases has a huge error associated with the predcited counterparts.\n",
        "Realisitically, not only compartments changes over time but also $R_0, \\alpha $ etc.! We saw nationwide lockdowns and other control measures reduce the number of people an infected person infects. Naturally, to get closer to modelling real-world developments, we have to make our variables change over time."
      ]
    },
    {
      "cell_type": "markdown",
      "metadata": {
        "id": "FtLhNoIvOwpk"
      },
      "source": [
        "##### Time-Dependent $R_0$"
      ]
    },
    {
      "cell_type": "markdown",
      "metadata": {
        "id": "8bmt2V1kTI-q"
      },
      "source": [
        "###### 1. Lockdown"
      ]
    },
    {
      "cell_type": "code",
      "metadata": {
        "id": "k5lOvaeOOu4J"
      },
      "source": [
        "def model_2(y, t, N, beta, gamma, delta, alpha, rho):\n",
        "    S, E, I, R, D = y\n",
        "    dSdt = -beta(t) * S * I / N\n",
        "    dEdt = beta(t) * S * I / N - delta * E\n",
        "    dIdt = delta * E - (1 - alpha) * gamma * I - alpha * rho * I\n",
        "    dRdt = (1 - alpha) * gamma * I\n",
        "    dDdt = alpha * rho * I\n",
        "    return dSdt, dEdt, dIdt, dRdt, dDdt\n",
        "\n",
        "N = 1_000_000\n",
        "D = 4.0 # infections lasts four days\n",
        "gamma = 1.0 / D # rate of recovery\n",
        "a = 5.0 # incubation period (days)\n",
        "delta = 1.0 / a  # rate of becoming infectious\n",
        "alpha = 0.1  # 10% death rate\n",
        "rho = 1/9  # 1/ x-days from infection until death\n",
        "S0, E0, I0, R0, D0 = N-1, 1, 0, 0, 0  # initial conditions: one exposed\n",
        "\n",
        "### L: After L days of the outbreak lockdown invoked \n",
        "L = np.array([60, 50, 45])\n",
        "\n",
        "for lockdown in L:\n",
        "  ### Expected number of people an infected person infect during his infection period\n",
        "  ### Basic Reproduction number\n",
        "  def R_0(t):\n",
        "      return 5.0 if t < lockdown else 0.9\n",
        "\n",
        "  ### Beta (expected number of people an infected person infect per day)\n",
        "  def beta(t):\n",
        "      return R_0(t) * gamma\n",
        "\n",
        "  ''' SOLVING SERID MODEL '''\n",
        "  t = np.linspace(0, 100, 100) # Grid of time points (in days)\n",
        "  x_init = S0, E0, I0, R0, D0 # Initial number of the compartments\n",
        "\n",
        "  # Integrate the SIR equations over the time grid, t.\n",
        "  solution = odeint(model_t, x_init, t, args=(N, beta, gamma, delta, alpha, rho))\n",
        "  S, E, I, R, D = solution.T\n",
        "\n",
        "  ### Plotting\n",
        "  plotSEIRD(t,S,E,I,R,D,lockdown)"
      ],
      "execution_count": null,
      "outputs": []
    },
    {
      "cell_type": "markdown",
      "metadata": {
        "id": "d8JD6IbTSnTE"
      },
      "source": [
        "###### 2. Logistic $R_0$\n",
        "\n",
        "$R_0(t) = \\frac{R_{0_{start}}- R_{0_{end}}}{1+e^{-k(t_0 - t)}} + R_{0_{end}}$\n",
        "\n",
        "where,\n",
        "*   $R_{0_{start}}$ and $R_{0_{end}}$ are the extremums of the $R_0$.\n",
        "*   $t_0$ is the date of the steepest decline, 'lockdown date'.\n",
        "*   k: rate of declining $R_0$\n",
        "\n"
      ]
    },
    {
      "cell_type": "code",
      "metadata": {
        "id": "qF4F9kK3SvZ1"
      },
      "source": [
        "R_0_start, k, t0, R_0_end = 5.0, 0.5, 35, 0.5\n",
        "\n",
        "def logistic_R_0(t):\n",
        "    return (R_0_start-R_0_end) / (1 + np.exp(-k*(-t+t0))) + R_0_end\n",
        "\n",
        "def beta(t):\n",
        "    return logistic_R_0(t) * gamma\n",
        "\n",
        "# Integrate the SIR equations over the time grid, t.\n",
        "solution = odeint(model_t, x_init, t, args=(N, beta, gamma, delta, alpha, rho))\n",
        "S, E, I, R, D = solution.T\n",
        "R0_over_time = [logistic_R_0(i) for i in range(len(t))]  # to plot R_0 over time: get function values\n",
        "\n",
        "### Plotting\n",
        "plotseird(t, S, E, I, R, D, R0=R0_over_time)"
      ],
      "execution_count": null,
      "outputs": []
    },
    {
      "cell_type": "markdown",
      "metadata": {
        "id": "j9hirCEWW9Ly"
      },
      "source": [
        "##### Age-Dependent fatality rate $\\alpha(t)$\n",
        "\n",
        "$\\alpha(t) = s \\cdot I(t)/N + \\alpha_{OPT}$\n",
        "\n",
        "where \n",
        "* $\\alpha_{OPT}$ is the optimal fatality rate,\n",
        "* s controls the influence of age-dependent Infected cases."
      ]
    },
    {
      "cell_type": "code",
      "metadata": {
        "id": "KWSxT1tYXFT2"
      },
      "source": [
        "def model_3(y, t, N, beta, gamma, delta, alpha_opt, rho):\n",
        "    S, E, I, R, D = y\n",
        "    def alpha(t):\n",
        "      return s * I/N + alpha_opt\n",
        "    dSdt = -beta(t) * S * I / N\n",
        "    dEdt = beta(t) * S * I / N - delta * E\n",
        "    dIdt = delta * E - (1 - alpha(t)) * gamma * I - alpha(t) * rho * I\n",
        "    dRdt = (1 - alpha(t)) * gamma * I\n",
        "    dDdt = alpha(t) * rho * I\n",
        "    return dSdt, dEdt, dIdt, dRdt, dDdt\n",
        "\n",
        "N = 1_000_000\n",
        "D = 4.0 # infections lasts four days\n",
        "gamma = 1.0 / D\n",
        "delta = 1.0 / 5.0  # incubation period of five days\n",
        "\n",
        "R_0_start, k, x0, R_0_end = 5.0, 0.5, 45, 0.5\n",
        "\n",
        "def logistic_R_0(t):\n",
        "    return (R_0_start-R_0_end) / (1 + np.exp(-k*(-t+x0))) + R_0_end\n",
        "\n",
        "def beta(t):\n",
        "    return logistic_R_0(t) * gamma\n",
        "\n",
        "alpha_by_agegroup = {\"0-29\": 0.01, \"30-59\": 0.05, \"60-89\": 0.2, \"89+\": 0.3}\n",
        "proportion_of_agegroup = {\"0-29\": 0.3, \"30-59\": 0.35, \"60-89\": 0.25, \"89+\": 0.2}\n",
        "s = 0.01\n",
        "alpha_opt = sum(alpha_by_agegroup[i] * proportion_of_agegroup[i] for i in list(alpha_by_agegroup.keys()))\n",
        "\n",
        "rho = 1/9  # 9 days from infection until death\n",
        "S0, E0, I0, R0, D0 = N-1, 1, 0, 0, 0  # initial conditions: one exposed\n",
        "\n",
        "t = np.linspace(0, 100, 100) # Grid of time points (in days)\n",
        "x_init = S0, E0, I0, R0, D0 # Initial conditions vector\n",
        "\n",
        "# Integrate the SIR equations over the time grid, t.\n",
        "solution = odeint(model_3, x_init, t, args=(N, beta, gamma, delta, alpha_opt, rho))\n",
        "S, E, I, R, D = solution.T\n",
        "R0_over_time = [logistic_R_0(i) for i in range(len(t))]  # to plot R_0 over time: get function values\n",
        "Alpha_over_time = [s * I[i]/N + alpha_opt for i in range(len(t))]  # to plot alpha over time\n",
        "\n",
        "plotSEIRD(t, S, E, I, R, D, R0=R0_over_time, Alpha=Alpha_over_time)"
      ],
      "execution_count": null,
      "outputs": []
    },
    {
      "cell_type": "markdown",
      "metadata": {
        "id": "wj19ka3_v47J"
      },
      "source": [
        "#### Extended SEIRD Model \n",
        "\n",
        "![](https://drive.google.com/uc?export=view&id=1Cs5Ft3BUOsUupc7_T9qMXxR8ebPgi6Ss)"
      ]
    },
    {
      "cell_type": "markdown",
      "metadata": {
        "id": "XO8OizOGwiv0"
      },
      "source": [
        "###### Reading Supplement Data (from [UN Data](https://data.un.org/))"
      ]
    },
    {
      "cell_type": "code",
      "metadata": {
        "id": "CdTTEYGRwC44"
      },
      "source": [
        "# read the data\n",
        "beds = pd.read_csv(\"https://raw.githubusercontent.com/hf2000510/infectious_disease_modelling/master/data/beds.csv\", header=0)\n",
        "agegroups = pd.read_csv(\"https://raw.githubusercontent.com/hf2000510/infectious_disease_modelling/master/data/agegroups.csv\")\n",
        "probabilities = pd.read_csv(\"https://raw.githubusercontent.com/hf2000510/infectious_disease_modelling/master/data/probabilities.csv\")\n",
        "covid_data = pd.read_csv(\"https://tinyurl.com/t59cgxn\", parse_dates=[\"Date\"], skiprows=[1])\n",
        "covid_data[\"Location\"] = covid_data[\"Country/Region\"]\n",
        "\n",
        "# create some dicts for fast lookup\n",
        "# 1. beds\n",
        "beds_lookup = dict(zip(beds[\"Country\"], beds[\"ICU_Beds\"]))\n",
        "# 2. agegroups\n",
        "agegroup_lookup = dict(zip(agegroups['Location'], agegroups[['0_9', '10_19', '20_29', '30_39', '40_49', '50_59', '60_69', '70_79', '80_89', '90_100']].values))\n",
        "\n",
        "# store the probabilities collected\n",
        "prob_I_to_C_1 = list(probabilities.prob_I_to_ICU_1.values)\n",
        "prob_I_to_C_2 = list(probabilities.prob_I_to_ICU_2.values)\n",
        "prob_C_to_Death_1 = list(probabilities.prob_ICU_to_Death_1.values)\n",
        "prob_C_to_Death_2 = list(probabilities.prob_ICU_to_Death_2.values)"
      ],
      "execution_count": null,
      "outputs": []
    },
    {
      "cell_type": "markdown",
      "metadata": {
        "id": "r33dYsZryUK1"
      },
      "source": [
        "###### Plotting"
      ]
    },
    {
      "cell_type": "code",
      "metadata": {
        "id": "JRivTNSEycNV"
      },
      "source": [
        "plt.gcf().subplots_adjust(bottom=0.15)\n",
        "\n",
        "def plotter(t, S, E, I, C, R, D, R_0, B, S_1=None, S_2=None, x_ticks=None):\n",
        "    if S_1 is not None and S_2 is not None:\n",
        "      print(f\"percentage going to ICU: {S_1*100}; percentage dying in ICU: {S_2 * 100}\")\n",
        "    \n",
        "    f = plt.figure(figsize=(20,4))\n",
        "    # sp1\n",
        "    ax1 = f.add_subplot(131)\n",
        "    if x_ticks is None:\n",
        "        ax1.plot(t, R_0, 'b--', alpha=0.7, linewidth=2, label='R_0')\n",
        "    else:\n",
        "        ax1.plot(x_ticks, R_0, 'b--', alpha=0.7, linewidth=2, label='R_0')\n",
        "        ax1.xaxis.set_major_locator(mdates.YearLocator())\n",
        "        ax1.xaxis.set_major_formatter(mdates.DateFormatter('%Y-%m-%d'))\n",
        "        ax1.xaxis.set_minor_locator(mdates.MonthLocator())\n",
        "        f.autofmt_xdate()\n",
        "\n",
        " \n",
        "    ax1.title.set_text('R_0 over time')\n",
        "    ax1.grid(b=True, which='major', c='w', lw=2, ls='-')\n",
        "    legend = ax1.legend()\n",
        "    legend.get_frame().set_alpha(0.5)\n",
        "    for spine in ('top', 'right', 'bottom', 'left'):\n",
        "        ax1.spines[spine].set_visible(False)\n",
        "    \n",
        "    # sp2\n",
        "    ax2 = f.add_subplot(132)\n",
        "    total_CFR = [0] + [100 * D[i] / sum(sigma*E[:i]) if sum(sigma*E[:i])>0 else 0 for i in range(1, len(t))]\n",
        "    daily_CFR = [0] + [100 * ((D[i]-D[i-1]) / ((R[i]-R[i-1]) + (D[i]-D[i-1]))) if max((R[i]-R[i-1]), (D[i]-D[i-1]))>10 else 0 for i in range(1, len(t))]\n",
        "    if x_ticks is None:\n",
        "        ax2.plot(t, total_CFR, 'r--', alpha=0.7, linewidth=2, label='Avg. CFR')\n",
        "        ax2.plot(t, daily_CFR, 'b--', alpha=0.7, linewidth=2, label='Daily')\n",
        "    else:\n",
        "        ax2.plot(x_ticks, total_CFR, 'r--', alpha=0.7, linewidth=2, label='Avg. CFR')\n",
        "        ax2.plot(x_ticks, daily_CFR, 'b--', alpha=0.7, linewidth=2, label='Daily')\n",
        "        ax2.xaxis.set_major_locator(mdates.YearLocator())\n",
        "        ax2.xaxis.set_major_formatter(mdates.DateFormatter('%Y-%m-%d'))\n",
        "        ax2.xaxis.set_minor_locator(mdates.MonthLocator())\n",
        "        f.autofmt_xdate()\n",
        "\n",
        "    ax2.title.set_text(' Case Fatality Rate (%)')\n",
        "    ax2.grid(b=True, which='major', c='w', lw=2, ls='-')\n",
        "    legend = ax2.legend()\n",
        "    legend.get_frame().set_alpha(0.5)\n",
        "    for spine in ('top', 'right', 'bottom', 'left'):\n",
        "        ax2.spines[spine].set_visible(False)\n",
        "\n",
        "    # sp3\n",
        "    ax3 = f.add_subplot(133)\n",
        "    newDs = [0] + [D[i]-D[i-1] for i in range(1, len(t))]\n",
        "    if x_ticks is None:\n",
        "        ax3.plot(t, newDs, 'r--', alpha=0.7, linewidth=2, label='per day death increment')\n",
        "        ax3.plot(t, [max(0, C[i]-B(i)) for i in range(len(t))], 'b--', alpha=0.7, linewidth=2, label=\"over capacity\")\n",
        "    else:\n",
        "        ax3.plot(x_ticks, newDs, 'r--', alpha=0.7, linewidth=2, label='per day death increment')\n",
        "        ax3.plot(x_ticks, [max(0, C[i]-B(i)) for i in range(len(t))], 'b--', alpha=0.7, linewidth=2, label=\"over capacity \")\n",
        "        ax3.xaxis.set_major_locator(mdates.YearLocator())\n",
        "        ax3.xaxis.set_major_formatter(mdates.DateFormatter('%Y-%m-%d'))\n",
        "        ax3.xaxis.set_minor_locator(mdates.MonthLocator())\n",
        "        f.autofmt_xdate()\n",
        "\n",
        "    ax3.title.set_text('Deaths per day')\n",
        "    ax3.yaxis.set_tick_params(length=0)\n",
        "    ax3.xaxis.set_tick_params(length=0)\n",
        "    ax3.grid(b=True, which='major', c='w', lw=2, ls='-')\n",
        "    legend = ax3.legend()\n",
        "    legend.get_frame().set_alpha(0.5)\n",
        "    for spine in ('top', 'right', 'bottom', 'left'):\n",
        "        ax3.spines[spine].set_visible(False)\n",
        "\n",
        "    plt.show();"
      ],
      "execution_count": null,
      "outputs": []
    },
    {
      "cell_type": "markdown",
      "metadata": {
        "id": "qAB1e3aew8xQ"
      },
      "source": [
        "###### Extended Model"
      ]
    },
    {
      "cell_type": "code",
      "metadata": {
        "id": "AG8ymP2bxERI"
      },
      "source": [
        "def ext_SEIRD(y, t, beta, gamma, sigma, N, p_I_to_C, p_C_to_D, Beds):\n",
        "    S, E, I, C, R, D = y\n",
        "\n",
        "    dSdt = -beta(t) * I * S / N\n",
        "    dEdt = beta(t) * I * S / N - sigma * E\n",
        "    dIdt = sigma * E - 1/12.0 * p_I_to_C * I - gamma * (1 - p_I_to_C) * I\n",
        "    dCdt = 1/12.0 * p_I_to_C * I - 1/7.5 * p_C_to_D * min(Beds(t), C) - max(0, C-Beds(t)) - (1 - p_C_to_D) * 1/6.5 * min(Beds(t), C)\n",
        "    dRdt = gamma * (1 - p_I_to_C) * I + (1 - p_C_to_D) * 1/6.5 * min(Beds(t), C)\n",
        "    dDdt = 1/7.5 * p_C_to_D * min(Beds(t), C) + max(0, C-Beds(t))\n",
        "    return dSdt, dEdt, dIdt, dCdt, dRdt, dDdt\n",
        "  \n",
        "gamma = 1.0/9.0\n",
        "sigma = 1.0/3.0\n",
        "\n",
        "def logistic_R_0(t, R_0_start, k, x0, R_0_end):\n",
        "    return (R_0_start-R_0_end) / (1 + np.exp(-k*(-t+x0))) + R_0_end\n",
        "\n",
        "def Model(days, agegroups, beds_per_100k, R_0_start, k, x0, R_0_end, prob_I_to_C, prob_C_to_D, s):\n",
        "\n",
        "    def beta(t):\n",
        "        return logistic_R_0(t, R_0_start, k, x0, R_0_end) * gamma\n",
        "\n",
        "    N = sum(agegroups)\n",
        "    \n",
        "    def Beds(t):\n",
        "        beds_0 = beds_per_100k / 100_000 * N\n",
        "        return beds_0 + s*beds_0*t  # 0.003\n",
        "\n",
        "    y0 = N-1.0, 1.0, 0.0, 0.0, 0.0, 0.0\n",
        "    t = np.linspace(0, days-1, days)\n",
        "    ret = odeint(ext_SEIRD, y0, t, args=(beta, gamma, sigma, N, prob_I_to_C, prob_C_to_D, Beds))\n",
        "    S, E, I, C, R, D = ret.T\n",
        "    R_0_over_time = [beta(i)/gamma for i in range(len(t))]\n",
        "\n",
        "    return t, S, E, I, C, R, D, R_0_over_time, Beds, prob_I_to_C, prob_C_to_D"
      ],
      "execution_count": null,
      "outputs": []
    },
    {
      "cell_type": "markdown",
      "metadata": {
        "id": "yanMe8LMx7ky"
      },
      "source": [
        "###### Lockdown, Fatality rate, Healthcare Resources and Deaths in Italy."
      ]
    },
    {
      "cell_type": "code",
      "metadata": {
        "id": "4pYCsSfgyFKi"
      },
      "source": [
        "# Parameters\n",
        "data = covid_data[covid_data[\"Location\"] == \"Italy\"][\"Value\"].values[::-1]\n",
        "agegroups = agegroup_lookup[\"Italy\"]\n",
        "beds_per_100k = beds_lookup[\"Italy\"]\n",
        "outbreak_shift = 30 \n",
        "# format: {parameter: (initial guess, minimum value, max value)}\n",
        "params_init_min_max = {\"R_0_start\": (3.0, 2.0, 5.0), \"k\": (2.5, 0.01, 5.0), \"x0\": (90, 0, 120), \"R_0_end\": (0.9, 0.3, 3.5),\n",
        "                       \"prob_I_to_C\": (0.05, 0.01, 0.1), \"prob_C_to_D\": (0.5, 0.05, 0.8),\n",
        "                       \"s\": (0.003, 0.001, 0.01)}  \n",
        "\n",
        "days = outbreak_shift + len(data)\n",
        "if outbreak_shift >= 0:\n",
        "    y_data = np.concatenate((np.zeros(outbreak_shift), data))\n",
        "else:\n",
        "    y_data = y_data[-outbreak_shift:]\n",
        "\n",
        "x_data = np.linspace(0, days - 1, days, dtype=int)  # x_data is just [0, 1, ..., max_days] array\n",
        "\n",
        "def fitter(x, R_0_start, k, x0, R_0_end, prob_I_to_C, prob_C_to_D, s):\n",
        "    ret = Model(days, agegroups, beds_per_100k, R_0_start, k, x0, R_0_end, prob_I_to_C, prob_C_to_D, s)\n",
        "    return ret[6][x]\n",
        "\n",
        "mod = lmfit.Model(fitter)\n",
        "\n",
        "for kwarg, (init, mini, maxi) in params_init_min_max.items():\n",
        "    mod.set_param_hint(str(kwarg), value=init, min=mini, max=maxi, vary=True)\n",
        "\n",
        "params = mod.make_params()\n",
        "fit_method = \"leastsq\"\n",
        "\n",
        "result = mod.fit(y_data, params, method=\"least_squares\", x=x_data)   \n",
        "# result.best_values                    "
      ],
      "execution_count": null,
      "outputs": []
    },
    {
      "cell_type": "markdown",
      "metadata": {
        "id": "kldzzIFdytyV"
      },
      "source": [
        "###### Analysing COVID19 outbreak in Italy"
      ]
    },
    {
      "cell_type": "code",
      "metadata": {
        "id": "XoOQc6sAyI0x"
      },
      "source": [
        "full_days = 500\n",
        "first_date = np.datetime64(covid_data.Date.min()) - np.timedelta64(outbreak_shift,'D')\n",
        "x_ticks = pd.date_range(start=first_date, periods=full_days, freq=\"D\")\n",
        "print(\"Prediction for Italy\")\n",
        "plotter(*Model(full_days, agegroup_lookup[\"Italy\"], beds_lookup[\"Italy\"], **result.best_values), x_ticks=x_ticks);"
      ],
      "execution_count": null,
      "outputs": []
    },
    {
      "cell_type": "markdown",
      "metadata": {
        "id": "_nvgH3190ON8"
      },
      "source": [
        "![](https://drive.google.com/uc?export=view&id=1SU-yBxeGFu_HPGAXy4xSZ4dzQI12Lqx4)"
      ]
    },
    {
      "cell_type": "markdown",
      "metadata": {
        "id": "LUd4wmtD0kWV"
      },
      "source": [
        "#### **FUTURE WORK**\n",
        "\n",
        "*   Incorporate time dependent with parameters SEIRD Model \n",
        "*   Include left compartments\n",
        "*   Use Deep Learining Technique to predict outbreak.\n",
        "\n"
      ]
    },
    {
      "cell_type": "markdown",
      "metadata": {
        "id": "FrsR1F0y5fA9"
      },
      "source": [
        "#### Reference Links:\n",
        "\n",
        "1. https://www.kaggle.com/allen-institute-for-ai/CORD-19-research-challenge\n",
        "2. https://www.lewuathe.com/COVID-19-dynamics-with-sir-model.html\n",
        "3. https://github.com/Lewuathe/COVID19-SIR\n",
        "4. https://in.springboard.com/blog/data-modelling-covid/\n",
        "5. https://en.wikipedia.org/wiki/Compartmental_models_in_epidemiology\n",
        "6. https://towardsdatascience.com/infectious-disease-modelling-part-i-understanding-sir-28d60e29fdfc\n",
        "7. https://towardsdatascience.com/infectious-disease-modelling-beyond-the-basic-sir-model-216369c584c4\n",
        "8. https://towardsdatascience.com/infectious-disease-modelling-fit-your-model-to-coronavirus-data-2568e672dbc7\n",
        "9. https://www.worldometers.info/coronavirus/\n",
        "10. https://www.arcgis.com/apps/opsdashboard/index.html#/bda7594740fd40299423467b48e9ecf6"
      ]
    }
  ]
}